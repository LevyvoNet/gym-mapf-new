{
 "cells": [
  {
   "cell_type": "code",
   "execution_count": 3,
   "metadata": {},
   "outputs": [],
   "source": [
    "import pandas as pd\n",
    "import matplotlib.pyplot as plt"
   ]
  },
  {
   "cell_type": "code",
   "execution_count": 4,
   "metadata": {},
   "outputs": [],
   "source": [
    "df = pd.read_csv('empty_48_48.csv', index_col=False)"
   ]
  },
  {
   "cell_type": "code",
   "execution_count": 9,
   "metadata": {},
   "outputs": [
    {
     "data": {
      "text/html": [
       "<div>\n",
       "<style scoped>\n",
       "    .dataframe tbody tr th:only-of-type {\n",
       "        vertical-align: middle;\n",
       "    }\n",
       "\n",
       "    .dataframe tbody tr th {\n",
       "        vertical-align: top;\n",
       "    }\n",
       "\n",
       "    .dataframe thead th {\n",
       "        text-align: right;\n",
       "    }\n",
       "</style>\n",
       "<table border=\"1\" class=\"dataframe\">\n",
       "  <thead>\n",
       "    <tr style=\"text-align: right;\">\n",
       "      <th></th>\n",
       "      <th>env_name</th>\n",
       "      <th>solver_name</th>\n",
       "      <th>adr</th>\n",
       "      <th>rate</th>\n",
       "      <th>total_time</th>\n",
       "      <th>exec_time</th>\n",
       "      <th>train_time</th>\n",
       "      <th>timeout_rate</th>\n",
       "      <th>stuck_rate</th>\n",
       "      <th>collision_rate</th>\n",
       "    </tr>\n",
       "  </thead>\n",
       "  <tbody>\n",
       "    <tr>\n",
       "      <th>97</th>\n",
       "      <td>empty-48-48_scen-1_agents=4</td>\n",
       "      <td>online_replan_rtdp_2</td>\n",
       "      <td>-262.21</td>\n",
       "      <td>93</td>\n",
       "      <td>12.57</td>\n",
       "      <td>5.26</td>\n",
       "      <td>7.31</td>\n",
       "      <td>0</td>\n",
       "      <td>7.0</td>\n",
       "      <td>0</td>\n",
       "    </tr>\n",
       "    <tr>\n",
       "      <th>98</th>\n",
       "      <td>empty-48-48_scen-1_agents=4</td>\n",
       "      <td>online_replan_dijkstra_2</td>\n",
       "      <td>-337.63</td>\n",
       "      <td>100</td>\n",
       "      <td>0.21</td>\n",
       "      <td>0.17</td>\n",
       "      <td>0.04</td>\n",
       "      <td>0</td>\n",
       "      <td>0.0</td>\n",
       "      <td>0</td>\n",
       "    </tr>\n",
       "    <tr>\n",
       "      <th>99</th>\n",
       "      <td>empty-48-48_scen-1_agents=4</td>\n",
       "      <td>online_replan_dijkstra_3</td>\n",
       "      <td>-368.03</td>\n",
       "      <td>100</td>\n",
       "      <td>0.79</td>\n",
       "      <td>0.75</td>\n",
       "      <td>0.04</td>\n",
       "      <td>0</td>\n",
       "      <td>0.0</td>\n",
       "      <td>0</td>\n",
       "    </tr>\n",
       "    <tr>\n",
       "      <th>154</th>\n",
       "      <td>empty-48-48_scen-1_agents=4</td>\n",
       "      <td>online_replan_rtdp_3</td>\n",
       "      <td>-285.47</td>\n",
       "      <td>63</td>\n",
       "      <td>8.05</td>\n",
       "      <td>1.70</td>\n",
       "      <td>6.35</td>\n",
       "      <td>30</td>\n",
       "      <td>7.0</td>\n",
       "      <td>0</td>\n",
       "    </tr>\n",
       "  </tbody>\n",
       "</table>\n",
       "</div>"
      ],
      "text/plain": [
       "                        env_name               solver_name     adr  rate  \\\n",
       "97   empty-48-48_scen-1_agents=4      online_replan_rtdp_2 -262.21    93   \n",
       "98   empty-48-48_scen-1_agents=4  online_replan_dijkstra_2 -337.63   100   \n",
       "99   empty-48-48_scen-1_agents=4  online_replan_dijkstra_3 -368.03   100   \n",
       "154  empty-48-48_scen-1_agents=4      online_replan_rtdp_3 -285.47    63   \n",
       "\n",
       "     total_time  exec_time  train_time  timeout_rate  stuck_rate  \\\n",
       "97        12.57       5.26        7.31             0         7.0   \n",
       "98         0.21       0.17        0.04             0         0.0   \n",
       "99         0.79       0.75        0.04             0         0.0   \n",
       "154        8.05       1.70        6.35            30         7.0   \n",
       "\n",
       "     collision_rate  \n",
       "97                0  \n",
       "98                0  \n",
       "99                0  \n",
       "154               0  "
      ]
     },
     "execution_count": 9,
     "metadata": {},
     "output_type": "execute_result"
    }
   ],
   "source": [
    "df[df['env_name'] == 'empty-48-48_scen-1_agents=4']"
   ]
  },
  {
   "cell_type": "code",
   "execution_count": 15,
   "metadata": {},
   "outputs": [],
   "source": [
    "from collections import defaultdict\n",
    "\n",
    "def compare_solvers_adr(df, n_agents):\n",
    "    solver_adr = defaultdict(lambda: 0)\n",
    "    solver_adr_stderr = defaultdict(lambda: 0)\n",
    "    solver_time = defaultdict(lambda: 0)\n",
    "    solver_count = defaultdict(lambda: 0)\n",
    "    for row in df.to_dict(orient=\"records\"):\n",
    "        row_n_agents = int(row['env_name'].split('_')[-1].split('=')[-1])\n",
    "        if int(row_n_agents) == n_agents:\n",
    "            if float(row['adr']) != 0:\n",
    "                solver_count[row['solver_name']] += 1\n",
    "                solver_adr[row['solver_name']] += row['adr']\n",
    "                if 'adr_stderr' in df.columns:\n",
    "                    solver_adr_stderr[row['solver_name']] += row['adr_stderr']\n",
    "                solver_time[row['solver_name']] += row['total_time']\n",
    "            \n",
    "    columns = ['solver', 'ADR']\n",
    "    if 'adr_stderr' in df.columns:\n",
    "        columns.append('ADR_STDERR')\n",
    "    columns.append('time')\n",
    "    \n",
    "    res_df = pd.DataFrame(columns=columns)\n",
    "    for solver in solver_count:\n",
    "        if solver_count[solver] > 0:\n",
    "            adr = solver_adr[solver] / solver_count[solver]\n",
    "            if 'adr_stderr' in df.columns: \n",
    "                adr_stderr = solver_adr_stderr[solver] / solver_count[solver]\n",
    "            time = solver_time[solver] / solver_count[solver]\n",
    "        else:\n",
    "            adr = '-'\n",
    "            time = '-'\n",
    "        \n",
    "        res_new_row = {'solver': solver, 'ADR': adr, 'time': time}\n",
    "        if 'adr_stderr' in df.columns:\n",
    "            res_new_row['ADR_STDERR'] = adr_stderr\n",
    "        \n",
    "        res_df = res_df.append(res_new_row, ignore_index=True)\n",
    "            \n",
    "    print(res_df)"
   ]
  },
  {
   "cell_type": "code",
   "execution_count": 64,
   "metadata": {},
   "outputs": [
    {
     "name": "stdout",
     "output_type": "stream",
     "text": [
      "                     solver         ADR       time\n",
      "0      online_replan_rtdp_2 -486.238889   8.050000\n",
      "1      online_replan_rtdp_3 -515.033333  15.282222\n",
      "2  online_replan_dijkstra_2 -546.228889   4.141111\n",
      "3  online_replan_dijkstra_3 -552.587778  10.751111\n"
     ]
    }
   ],
   "source": [
    "MAP_NAME = \"room_32_32_4\"\n",
    "AGENT_COUNT = 5\n",
    "\n",
    "df = pd.read_csv(f'{MAP_NAME}.csv', index_col=False)\n",
    "compare_solvers_adr(df, AGENT_COUNT)"
   ]
  }
 ],
 "metadata": {
  "kernelspec": {
   "display_name": "research",
   "language": "python",
   "name": "research"
  },
  "language_info": {
   "codemirror_mode": {
    "name": "ipython",
    "version": 3
   },
   "file_extension": ".py",
   "mimetype": "text/x-python",
   "name": "python",
   "nbconvert_exporter": "python",
   "pygments_lexer": "ipython3",
   "version": "3.6.9"
  }
 },
 "nbformat": 4,
 "nbformat_minor": 4
}
